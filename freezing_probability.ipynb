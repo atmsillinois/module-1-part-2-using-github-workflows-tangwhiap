{
 "cells": [
  {
   "cell_type": "code",
   "execution_count": 1,
   "id": "7c66d095-050e-465b-942b-2ea83e571ddf",
   "metadata": {},
   "outputs": [],
   "source": [
    "import numpy as np"
   ]
  },
  {
   "cell_type": "code",
   "execution_count": 2,
   "id": "ab30b5c0-6872-49fb-b217-775109bebcc8",
   "metadata": {},
   "outputs": [],
   "source": [
    "def freezing_probability_for_Fe2O3(T=273.15, time=1, Dp=1e-6):\n",
    "\n",
    "    \"\"\" Calculate the freezing probability for an immersed Fe2O3 aersol.\n",
    "\n",
    "        Uses the water-activity-based immersion freezing model\n",
    "        (Knopf & Alpert, 2013). The calculation proceeds by computing the\n",
    "        saturation vapor pressures over water and ice, deriving detal \n",
    "        water-activity, estimating the heterogeneous nucleation rate, and\n",
    "        then applying a Poisson model to obtain the freezing probability.\n",
    "    \n",
    "        Keyword arguments:\n",
    "        T -- temperature (unit: Kelvin, default: 273.15)\n",
    "        time -- duration time (unit: second, default: 1)\n",
    "        Dp -- surface equivalent diameter (unit: m, default 1e-6)\n",
    "    \"\"\"\n",
    "\n",
    "    # Step 1. Calculate the supersaturated vapor pressure w.r.t water.\n",
    "    e_s = np.exp(54.842763 - 6763.22/T - 4.210*np.log(T) \\\n",
    "            + 0.000367*T + np.tanh(0.0415*(T - 218.8)) \\\n",
    "            * (53.878 - 1331.22/T - 9.44523*np.log(T) \\\n",
    "            + 0.014025*T))\n",
    "\n",
    "    # Step 2. Calculate the supersaturated vapor pressure w.r.t ice.\n",
    "    e_i = np.exp(9.550426 - 5723.265/T + \\\n",
    "            3.53068*np.log(T) - 0.00728332*T)\n",
    "\n",
    "    # Step 3. Calculate the delta water activity in a\n",
    "    #         immersed environment.\n",
    "    delta_aw = 1 - e_i/e_s\n",
    "\n",
    "    # Step 4. Calculate the heterogeneous ice nucleation rate \n",
    "    #         coefficient for Fe2O3 aerosols as ice nucleation\n",
    "    #         particles using the Water-activity based Immersion\n",
    "    #         freezing model (Knopf and Alpert, 2013).\n",
    "    J_het = 10**(17.62106*delta_aw + 1.42411) * 1e4\n",
    "\n",
    "    # Step 5. Calculate the freezing rate by\n",
    "    #         incorporating the particle surface.\n",
    "    freezing_rate = J_het * np.pi * Dp**2\n",
    "\n",
    "    # Step 6. Calculate the freezing probability using Poisson model.\n",
    "    P_frz = 1 - np.exp(-freezing_rate * time)\n",
    "\n",
    "    return P_frz\n",
    "\n",
    "P_frz = freezing_probability_for_Fe2O3(\n",
    "            T = 253.15, # temperature (K)\n",
    "            time = 60, # duration time (s)\n",
    "            Dp = 1e-6, # diameter (m)\n",
    "        )\n"
   ]
  },
  {
   "cell_type": "code",
   "execution_count": 3,
   "id": "c4540d8a-f040-45e4-8f42-91bcb96afd3f",
   "metadata": {},
   "outputs": [
    {
     "name": "stdout",
     "output_type": "stream",
     "text": [
      "Temperature is 253.15 k\n",
      "Duration time is 60.0 s\n",
      "The diameter of Fe2O3 aerosol particle is 1.0 um\n",
      "The freezing probability is 6.44%\n"
     ]
    }
   ],
   "source": [
    "temperature = 253.15 # temperature (K)\n",
    "time = 60 # duration time (s)\n",
    "Dp = 1e-6 # surface equivalent diameter (m)\n",
    "\n",
    "P_frz = freezing_probability_for_Fe2O3(\n",
    "            T = temperature, \n",
    "            time = time,\n",
    "            Dp = Dp\n",
    "        )\n",
    "print(\"Temperature is %.2f k\" % (temperature))\n",
    "print(\"Duration time is %.1f s\" % (time))\n",
    "print(\"The diameter of Fe2O3 aerosol particle is %.1f um\" % (Dp * 1e6))\n",
    "print(\"The freezing probability is %.2f%%\" % (P_frz * 100))"
   ]
  }
 ],
 "metadata": {
  "kernelspec": {
   "display_name": "Python 3 (ipykernel)",
   "language": "python",
   "name": "python3"
  },
  "language_info": {
   "codemirror_mode": {
    "name": "ipython",
    "version": 3
   },
   "file_extension": ".py",
   "mimetype": "text/x-python",
   "name": "python",
   "nbconvert_exporter": "python",
   "pygments_lexer": "ipython3",
   "version": "3.13.5"
  }
 },
 "nbformat": 4,
 "nbformat_minor": 5
}
